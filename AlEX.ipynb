{
  "cells": [
    {
      "cell_type": "code",
      "execution_count": 3,
      "metadata": {
        "colab": {
          "base_uri": "https://localhost:8080/"
        },
        "id": "iljT_aG7nZ_D",
        "outputId": "eea7a21b-8486-4720-e41d-82c1819ecd40"
      },
      "outputs": [
        {
          "output_type": "stream",
          "name": "stdout",
          "text": [
            "Mounted at /content/drive\n"
          ]
        }
      ],
      "source": [
        "from google.colab import drive\n",
        "drive.mount('/content/drive')"
      ]
    },
    {
      "cell_type": "code",
      "execution_count": 4,
      "metadata": {
        "id": "_oR_OjJgYTcX"
      },
      "outputs": [],
      "source": [
        "#import os\n",
        "#import zipfile\n",
        "#unzip_dataset\n",
        "#local_zip='/content/corn-or-maize-leaf-disease-dataset.zip'\n",
        "#zip_ref=zipfile.ZipFile(local_zip,'r')\n",
        "#zip_ref.extractall('/content/drive/MyDrive')"
      ]
    },
    {
      "cell_type": "code",
      "execution_count": 5,
      "metadata": {
        "colab": {
          "base_uri": "https://localhost:8080/"
        },
        "id": "oU2YvRj5n_zW",
        "outputId": "6e989b81-d9f7-4d5b-cb49-d81528400bbd"
      },
      "outputs": [
        {
          "output_type": "stream",
          "name": "stdout",
          "text": [
            "\u001b[38;2;100;40;40;48;2;235;235;235mtest of default colors\n",
            "\u001b[0m\n"
          ]
        }
      ],
      "source": [
        "def print_in_color(txt_msg,fore_tupple=(100,40,40),back_tupple=(235,235,235)):\n",
        "    #prints the text_msg in the foreground color specified by fore_tupple with the background specified by back_tupple \n",
        "    #text_msg is the text, fore_tupple is foregroud color tupple (r,g,b), back_tupple is background tupple (r,g,b)\n",
        "    # default parameter print in cyan foreground and gray background\n",
        "    rf,gf,bf=fore_tupple\n",
        "    rb,gb,bb=back_tupple\n",
        "    msg='{0}' + txt_msg\n",
        "    mat='\\33[38;2;' + str(rf) +';' + str(gf) + ';' + str(bf) + ';48;2;' + str(rb) + ';' +str(gb) + ';' + str(bb) +'m' \n",
        "    print(msg .format(mat), flush=True)\n",
        "    print('\\33[0m', flush=True) # returns default print color to back to black\n",
        "    return\n",
        "\n",
        "# example default print\n",
        "msg='test of default colors'\n",
        "print_in_color(msg)"
      ]
    },
    {
      "cell_type": "code",
      "execution_count": 6,
      "metadata": {
        "colab": {
          "base_uri": "https://localhost:8080/"
        },
        "id": "DsVFCwGJoCJV",
        "outputId": "6f89c951-1a9a-4b16-a49c-afcb1dde5f6e"
      },
      "outputs": [
        {
          "output_type": "stream",
          "name": "stdout",
          "text": [
            "All modules have been imported\n"
          ]
        }
      ],
      "source": [
        "import pandas as pd\n",
        "import numpy as np\n",
        "import os\n",
        "os.environ['TF_CPP_MIN_LOG_LEVEL'] = '2'\n",
        "import time\n",
        "import matplotlib\n",
        "import matplotlib.pyplot as plt\n",
        "import cv2\n",
        "import seaborn as sns\n",
        "sns.set_style('darkgrid')\n",
        "import shutil\n",
        "from sklearn.metrics import confusion_matrix, classification_report\n",
        "from sklearn.model_selection import train_test_split\n",
        "import tensorflow as tf\n",
        "from tensorflow import keras\n",
        "from tensorflow.keras.preprocessing.image import ImageDataGenerator\n",
        "from tensorflow.keras.layers import Input,Dense,Flatten,Dropout,BatchNormalization \n",
        "from tensorflow.keras.layers import Activation,Conv2D, MaxPooling2D,Concatenate, AveragePooling2D\n",
        "from tensorflow.keras.optimizers import Adam, Adamax\n",
        "\n",
        "from tensorflow.keras.applications.resnet import ResNet101\n",
        "from keras.applications.inception_v3 import InceptionV3\n",
        "from keras.applications.vgg16 import VGG16\n",
        "\n",
        "from tensorflow.keras.metrics import categorical_crossentropy\n",
        "from tensorflow.keras import regularizers\n",
        "from tensorflow.keras.models import Model\n",
        "from tensorflow.keras import backend as K\n",
        "from tensorflow.keras.models import Sequential\n",
        "import time\n",
        "from tqdm import tqdm\n",
        "from sklearn.metrics import f1_score\n",
        "\n",
        "import sys\n",
        "if not sys.warnoptions:\n",
        "    import warnings\n",
        "    warnings.simplefilter(\"ignore\")\n",
        "pd.set_option('display.max_columns', None)  # or 1000\n",
        "pd.set_option('display.max_rows', None)  # or 1000\n",
        "pd.set_option('display.max_colwidth', None)  # or 199\n",
        "print('All modules have been imported')"
      ]
    },
    {
      "cell_type": "code",
      "execution_count": 7,
      "metadata": {
        "colab": {
          "base_uri": "https://localhost:8080/"
        },
        "id": "poX0k00Xokei",
        "outputId": "1e9ae6b6-e531-4e28-d500-3f65c922597b"
      },
      "outputs": [
        {
          "output_type": "stream",
          "name": "stderr",
          "text": [
            "train -Blight                   : 100%|\u001b[34m████████████████████████████████████████████████████\u001b[0m| 1146/1146 [00:34<00:00, 33.42files/s]\u001b[0m\n",
            "train -Common_Rust              : 100%|\u001b[34m████████████████████████████████████████████████████\u001b[0m| 1306/1306 [00:30<00:00, 42.34files/s]\u001b[0m\n",
            "train -Gray_Leaf_Spot           : 100%|\u001b[34m██████████████████████████████████████████████████████\u001b[0m| 574/574 [00:11<00:00, 49.91files/s]\u001b[0m\n",
            "train -Healthy                  : 100%|\u001b[34m████████████████████████████████████████████████████\u001b[0m| 1162/1162 [00:21<00:00, 54.77files/s]\u001b[0m\n"
          ]
        },
        {
          "output_type": "stream",
          "name": "stdout",
          "text": [
            "\n",
            "The names of the classes:  ['Blight', 'Common_Rust', 'Gray_Leaf_Spot', 'Healthy']\n",
            "\n",
            "number of classes in processed dataset=  4\n",
            "\n",
            "the maximum files in any class in train_df is  1045   the minimum files in any class in train_df is  459\n",
            "\n",
            "train_df length:  3350   valid_df length:  670   test_df length:  168\n",
            "\n",
            "average image height=  277   average image width=  268  aspect ratio h/w=  1.0335820895522387\n"
          ]
        }
      ],
      "source": [
        "def make_dataframes(train_dir,val_dir, test_dir):\n",
        "    bad_images=[]\n",
        "    if test_dir == None and val_dir==None:\n",
        "        dirlist=[train_dir]\n",
        "        names = ['train']\n",
        "    elif test_dir == None:\n",
        "        dirlist=[train_dir,  val_dir]\n",
        "        names=['train', 'valid']\n",
        "    elif val_dir == None:\n",
        "        dirlist=[train_dir,  test_dir]\n",
        "        names=['train', 'test'] \n",
        "    else:\n",
        "        dirlist=[train_dir, test_dir, val_dir]\n",
        "        names=['train','test', 'valid']\n",
        "    zipdir=zip(names, dirlist)\n",
        "    for name,d in zipdir:\n",
        "        filepaths=[]\n",
        "        labels=[]\n",
        "        classlist=sorted(os.listdir(d) )       \n",
        "        for klass in classlist:\n",
        "            classpath=os.path.join(d, klass)           \n",
        "            flist=sorted(os.listdir(classpath)) \n",
        "            desc=f'{name:6s}-{klass:25s}'\n",
        "            for f in tqdm(flist, ncols=130,desc=desc, unit='files', colour='blue'):\n",
        "                fpath=os.path.join(classpath,f)\n",
        "                try:\n",
        "                    img=cv2.imread(fpath)\n",
        "                    shape=img.shape\n",
        "                    filepaths.append(fpath)\n",
        "                    labels.append(klass)\n",
        "                except:\n",
        "                    bad_images.append(fpath)\n",
        "        Fseries=pd.Series(filepaths, name='filepaths')\n",
        "        Lseries=pd.Series(labels, name='labels')\n",
        "        df=pd.concat([Fseries, Lseries], axis=1) \n",
        "        if name =='valid':\n",
        "            valid_df=df\n",
        "        elif name == 'test':\n",
        "            test_df=df\n",
        "        else:\n",
        "            if test_dir == None and val_dir == None:\n",
        "                pdf=df\n",
        "                train_df, dummy_df=train_test_split(pdf, train_size=.8,\n",
        "                                                    shuffle=True, random_state=42, stratify=pdf['labels'])\n",
        "                valid_df, test_df=train_test_split(dummy_df, train_size=.8,\n",
        "                                                   shuffle=True, random_state=42, stratify=dummy_df['labels'])\n",
        "            elif test_dir == None:\n",
        "                pdf=df\n",
        "                train_df,test_df=train_test_split(pdf, train_size=.8,\n",
        "                                                  shuffle=True, random_state=123, stratify=pdf['labels'])\n",
        "            else : # create a  validation dataframe\n",
        "                pdf=df\n",
        "                train_df,valid_df=train_test_split(pdf, train_size=.8,\n",
        "                                                   shuffle=True, random_state=123, stratify=pdf['labels'])\n",
        "    class_names=sorted(train_df['labels'].unique())\n",
        "    class_count=len(class_names)\n",
        "    sample_df=train_df.sample(n=100, replace=False)\n",
        "    # calculate the average image height and with\n",
        "    ht=0\n",
        "    wt=0\n",
        "    count=0\n",
        "    for i in range(len(sample_df)):\n",
        "        fpath=sample_df['filepaths'].iloc[i]\n",
        "        try:\n",
        "            img=cv2.imread(fpath)\n",
        "            h=img.shape[0]\n",
        "            w=img.shape[1]\n",
        "            wt +=w\n",
        "            ht +=h\n",
        "            count +=1\n",
        "        except:\n",
        "            pass\n",
        "    have=int(ht/count)\n",
        "    wave=int(wt/count)\n",
        "    aspect_ratio=have/wave\n",
        "    print()\n",
        "    print('The names of the classes: ' , class_names)\n",
        "    print()\n",
        "    print('number of classes in processed dataset= ', class_count)  \n",
        "    print()  \n",
        "    counts=list(train_df['labels'].value_counts())    \n",
        "    print('the maximum files in any class in train_df is ', max(counts), '  the minimum files in any class in train_df is ', min(counts))\n",
        "    print()\n",
        "    print('train_df length: ', len(train_df),  '  valid_df length: ', len(valid_df),'  test_df length: ', len(test_df))  \n",
        "    print()\n",
        "    print('average image height= ', have, '  average image width= ', wave, ' aspect ratio h/w= ', aspect_ratio)\n",
        "\n",
        "\n",
        "    return train_df, valid_df, test_df, class_names, class_count\n",
        "# # if there is no test directory set test_dir = None, a test_df dataframe will be created from train_df\n",
        "# test_dir = r'/content/drive/MyDrive/Dog and Cat/dev/valid'\n",
        "# # if there is no validation directory set val_dir = None, a valid_df dataframe will be created from train_df\n",
        "# val_dir= None\n",
        "# train_dir= r'/content/drive/MyDrive/Dog and Cat/dev/train'\n",
        "\n",
        "\n",
        "# or\n",
        " # if there is no test directory set test_dir = None, a test_df dataframe will be created from train_df\n",
        "test_dir = None\n",
        " # if there is no validation directory set val_dir = None, a valid_df dataframe will be created from train_df\n",
        "val_dir= None\n",
        "train_dir= r'/content/drive/MyDrive/data'\n",
        "\n",
        "\n",
        "train_df, valid_df,test_df , class_names, class_count=make_dataframes(train_dir,val_dir, test_dir)"
      ]
    },
    {
      "cell_type": "code",
      "execution_count": 8,
      "metadata": {
        "colab": {
          "base_uri": "https://localhost:8080/"
        },
        "id": "lu4X2B1JolwN",
        "outputId": "3051cecd-ffa4-47a6-d8fa-560b5cd07cf4"
      },
      "outputs": [
        {
          "output_type": "stream",
          "name": "stdout",
          "text": [
            "dataframe initially is of length  3350  with  4  classes\n",
            "after trimming, the maximum samples in any class is now  225  and the minimum samples in any class is  120\n",
            "the trimmed dataframe now is of length  900  with  4  classes\n"
          ]
        }
      ],
      "source": [
        "def trim(df, max_samples, min_samples, column):\n",
        "    df=df.copy()\n",
        "    classes=df[column].unique()\n",
        "    class_count=len(classes)\n",
        "    length=len(df)\n",
        "    print ('dataframe initially is of length ',length, ' with ', class_count, ' classes')\n",
        "    groups=df.groupby(column)    \n",
        "    trimmed_df = pd.DataFrame(columns = df.columns)\n",
        "    groups=df.groupby(column)\n",
        "    for label in df[column].unique(): \n",
        "        group=groups.get_group(label)\n",
        "        count=len(group)    \n",
        "        if count > max_samples:\n",
        "            sampled_group=group.sample(n=max_samples, random_state=123,axis=0)\n",
        "            trimmed_df=pd.concat([trimmed_df, sampled_group], axis=0)\n",
        "        else:\n",
        "            if count>=min_samples:\n",
        "                sampled_group=group        \n",
        "                trimmed_df=pd.concat([trimmed_df, sampled_group], axis=0)\n",
        "    print('after trimming, the maximum samples in any class is now ',max_samples, ' and the minimum samples in any class is ', min_samples)\n",
        "    classes=trimmed_df[column].unique()# return this in case some classes have less than min_samples\n",
        "    class_count=len(classes) # return this in case some classes have less than min_samples\n",
        "    length=len(trimmed_df)\n",
        "    print ('the trimmed dataframe now is of length ',length, ' with ', class_count, ' classes')\n",
        "    return trimmed_df, classes, class_count\n",
        "\n",
        "max_samples=225\n",
        "min_samples=120\n",
        "column='labels'\n",
        "train_df, classes, class_count = trim(train_df, max_samples, min_samples, column)"
      ]
    },
    {
      "cell_type": "code",
      "execution_count": 9,
      "metadata": {
        "colab": {
          "base_uri": "https://localhost:8080/"
        },
        "id": "PIDR0K_9pG_l",
        "outputId": "47f68eac-33cc-4695-ac92-121332ea816d"
      },
      "outputs": [
        {
          "output_type": "stream",
          "name": "stdout",
          "text": [
            "Initial length of dataframe is  900\n",
            "Found 225 validated image filenames.\n",
            "Found 225 validated image filenames.\n",
            "Found 225 validated image filenames.\n",
            "Found 225 validated image filenames.\n",
            "Total Augmented images created=  860\n",
            "Length of augmented dataframe is now  1760\n"
          ]
        }
      ],
      "source": [
        "def balance(df, n,column, working_dir, img_size):\n",
        "    df=df.copy()\n",
        "    print('Initial length of dataframe is ', len(df))\n",
        "    aug_dir=os.path.join(working_dir, 'aug')            # directory to store augmented images\n",
        "    if os.path.isdir(aug_dir):                          # start with an empty directory\n",
        "        shutil.rmtree(aug_dir)\n",
        "    os.mkdir(aug_dir)        \n",
        "    for label in df[column].unique():    \n",
        "        dir_path=os.path.join(aug_dir,label)    \n",
        "        os.mkdir(dir_path)                              # make class directories within aug directory\n",
        "\n",
        "# create and store the augmented images  \n",
        "\n",
        "    total=0\n",
        "    gen=ImageDataGenerator(horizontal_flip=True,\n",
        "                           rotation_range=15,\n",
        "                           width_shift_range=.2,\n",
        "                           height_shift_range=.2,\n",
        "                           zoom_range=.2)\n",
        "    \n",
        "    groups=df.groupby(column)                           # group by class\n",
        "    for label in df[column].unique():                   # for every class               \n",
        "        group=groups.get_group(label)                   # a dataframe holding only rows with the specified label \n",
        "        sample_count=len(group)                         # determine how many samples there are in this class  \n",
        "        if sample_count< n:                             # if the class has less than target number of images\n",
        "            aug_img_count=0\n",
        "            delta=n - sample_count                      # number of augmented images to create\n",
        "            target_dir=os.path.join(aug_dir, label)     # define where to write the images\n",
        "            msg='{0:40s} for class {1:^30s} creating {2:^5s} augmented images'.format(' ', label, str(delta))\n",
        "            print(msg, '\\r', end='')                    # prints over on the same line\n",
        "            aug_gen=gen.flow_from_dataframe( group,\n",
        "                                            x_col='filepaths',\n",
        "                                            y_col=None,\n",
        "                                            target_size=img_size,\n",
        "                                            class_mode=None,\n",
        "                                            batch_size=1,\n",
        "                                            shuffle=False, \n",
        "                                            save_to_dir=target_dir,\n",
        "                                            save_prefix='aug-',\n",
        "                                            color_mode='rgb',\n",
        "                                            save_format='jpg')\n",
        "            while aug_img_count<delta:\n",
        "                images=next(aug_gen)            \n",
        "                aug_img_count += len(images)\n",
        "            total +=aug_img_count\n",
        "    print('Total Augmented images created= ', total)\n",
        "\n",
        "    # create aug_df and merge with train_df to create composite training set ndf\n",
        "    aug_fpaths=[]\n",
        "    aug_labels=[]\n",
        "    classlist=sorted(os.listdir(aug_dir))\n",
        "    for klass in classlist:\n",
        "        classpath=os.path.join(aug_dir, klass)     \n",
        "        flist=sorted(os.listdir(classpath))    \n",
        "        for f in flist:        \n",
        "            fpath=os.path.join(classpath,f)         \n",
        "            aug_fpaths.append(fpath)\n",
        "            aug_labels.append(klass)\n",
        "    Fseries=pd.Series(aug_fpaths, name='filepaths')\n",
        "    Lseries=pd.Series(aug_labels, name='labels')   \n",
        "    aug_df=pd.concat([Fseries, Lseries], axis=1)         \n",
        "    df=pd.concat([df,aug_df], axis=0).reset_index(drop=True)\n",
        "    print('Length of augmented dataframe is now ', len(df))\n",
        "    return df \n",
        "\n",
        "n=440\n",
        "# m= 450\n",
        "column='labels'\n",
        "working_dir=r'./'\n",
        "img_size=(224,224)    \n",
        "train_df=balance(train_df, n,column, working_dir, img_size)\n",
        "# valid_df=balance(valid_df, m ,column, working_dir, img_size)"
      ]
    },
    {
      "cell_type": "code",
      "execution_count": 10,
      "metadata": {
        "colab": {
          "base_uri": "https://localhost:8080/"
        },
        "id": "W_u-tRUM5AqN",
        "outputId": "0c69b1bd-3c52-4c4c-f113-3f7ceff13058"
      },
      "outputs": [
        {
          "output_type": "stream",
          "name": "stdout",
          "text": [
            "Looking in indexes: https://pypi.org/simple, https://us-python.pkg.dev/colab-wheels/public/simple/\n",
            "Collecting split_folders\n",
            "  Downloading split_folders-0.5.1-py3-none-any.whl (8.4 kB)\n",
            "Installing collected packages: split_folders\n",
            "Successfully installed split_folders-0.5.1\n"
          ]
        }
      ],
      "source": [
        "!pip install split_folders"
      ]
    },
    {
      "cell_type": "code",
      "execution_count": 11,
      "metadata": {
        "colab": {
          "base_uri": "https://localhost:8080/"
        },
        "id": "UfCNqavu4la6",
        "outputId": "258bab32-94a8-4fc0-a821-6f9abc9034f0"
      },
      "outputs": [
        {
          "output_type": "stream",
          "name": "stderr",
          "text": [
            "Copying files: 4188 files [40:25,  1.73 files/s]\n"
          ]
        }
      ],
      "source": [
        "import splitfolders\n",
        "file_path='../content/drive/MyDrive/data'\n",
        "splitted_folder='../content/drive/MyDrive'\n",
        "def train_test_valid(train_size=0.6,test_size=0.2,val_size=0.2,images_folder=file_path,splitted_folder=splitted_folder):\n",
        "  train_size = train_size\n",
        "  test_size = test_size\n",
        "  val_size = val_size\n",
        "  input_folder = images_folder\n",
        "  output_folder = splitted_folder\n",
        "  splitfolders.ratio(input_folder,output_folder, seed = 1337, ratio = (train_size,test_size,val_size), group_prefix = None)\n",
        "train_test_valid()"
      ]
    },
    {
      "cell_type": "code",
      "execution_count": 12,
      "metadata": {
        "colab": {
          "base_uri": "https://localhost:8080/"
        },
        "id": "9CKz5EO-4zuL",
        "outputId": "c91e9e7c-57af-4407-9a2a-ff9d600e624d"
      },
      "outputs": [
        {
          "output_type": "stream",
          "name": "stdout",
          "text": [
            "Found 2511 images belonging to 4 classes.\n",
            "Found 841 images belonging to 4 classes.\n",
            "Found 836 images belonging to 4 classes.\n"
          ]
        }
      ],
      "source": [
        "from tensorflow.keras.preprocessing.image import ImageDataGenerator\n",
        "\n",
        "train_file_path = '../content/drive/MyDrive/train'\n",
        "test_file_path =  '../content/drive/MyDrive/test'\n",
        "val_file_path =  '../content/drive/MyDrive/val'\n",
        "\n",
        "def data_pre_processing(valid_split = 0,input_size = (224, 224),image_color = 'rgb',batch_size = 32,\n",
        "                        shuffle=True):\n",
        "\n",
        "\n",
        "    train_gen2=ImageDataGenerator(rescale=1/255.0,validation_split=valid_split,fill_mode='nearest',rotation_range=40,horizontal_flip=True)\n",
        "\n",
        "    validation_gen2=ImageDataGenerator(rescale=1/255.0,validation_split=valid_split)\n",
        "\n",
        "    test_gen2=ImageDataGenerator(rescale=1/255.0)\n",
        "\n",
        "    train_data=train_gen2.flow_from_directory(directory=train_file_path,target_size=input_size,color_mode=image_color,\n",
        "                                             batch_size=batch_size,shuffle=shuffle,class_mode='categorical')\n",
        "    test_data=test_gen2.flow_from_directory(directory=test_file_path,target_size=input_size,color_mode=image_color,\n",
        "                                             batch_size=batch_size,shuffle=shuffle,class_mode='categorical')\n",
        "    valid_data=validation_gen2.flow_from_directory(directory=val_file_path,target_size=input_size,color_mode=image_color,\n",
        "                                             batch_size=batch_size,shuffle=shuffle,class_mode='categorical')\n",
        "\n",
        "    return train_data,test_data,valid_data\n",
        "\n",
        "train,test,validation=data_pre_processing()"
      ]
    },
    {
      "cell_type": "code",
      "execution_count": 12,
      "metadata": {
        "id": "diTPxqLK7gVJ"
      },
      "outputs": [],
      "source": []
    },
    {
      "cell_type": "code",
      "execution_count": 13,
      "metadata": {
        "colab": {
          "base_uri": "https://localhost:8080/"
        },
        "id": "R6kCgrFObVru",
        "outputId": "08c3628e-579e-4e79-db3c-08218587d722"
      },
      "outputs": [
        {
          "output_type": "stream",
          "name": "stdout",
          "text": [
            "Found 1760 validated image filenames belonging to 4 classes.\n",
            "Found 670 validated image filenames belonging to 4 classes.\n",
            "Found 168 validated image filenames belonging to 4 classes.\n",
            "55\n"
          ]
        }
      ],
      "source": [
        "BATCH_SIZE= 32\n",
        "IMG_SHAPE= (224, 224, 3)\n",
        "IMG_SIZE= (224, 224)\n",
        "\n",
        "gen =ImageDataGenerator(horizontal_flip=True)    \n",
        "gen2=ImageDataGenerator()\n",
        "\n",
        "\n",
        "train_gen = gen.flow_from_dataframe(train_df,\n",
        "                                    x_col= 'filepaths',\n",
        "                                    y_col= 'labels',\n",
        "                                    target_size= IMG_SIZE,\n",
        "                                    class_mode= 'categorical',\n",
        "                                    color_mode= 'rgb',\n",
        "                                    shuffle= True,\n",
        "                                    batch_size= BATCH_SIZE,\n",
        "                                    seed=88\n",
        ")\n",
        "\n",
        "valid_gen= gen2.flow_from_dataframe(valid_df,\n",
        "                                    x_col= 'filepaths',\n",
        "                                    y_col= 'labels',\n",
        "                                    target_size= IMG_SIZE,\n",
        "                                    class_mode= 'categorical',\n",
        "                                    color_mode= 'rgb',\n",
        "                                    shuffle= True,\n",
        "                                    batch_size= BATCH_SIZE,\n",
        "                                    seed=88\n",
        ")\n",
        "test_gen= gen2.flow_from_dataframe(test_df,\n",
        "                                   x_col= 'filepaths',\n",
        "                                   y_col= 'labels',\n",
        "                                   target_size= IMG_SIZE,\n",
        "                                   class_mode= 'categorical',\n",
        "                                   color_mode= 'rgb',\n",
        "                                   shuffle= True,\n",
        "                                   batch_size= 325,\n",
        "                                   seed=88\n",
        ")\n",
        "\n",
        "\n",
        "STEPS= int( len(train_gen.labels)/BATCH_SIZE)\n",
        "print(STEPS)"
      ]
    },
    {
      "cell_type": "code",
      "source": [
        "class MyCallback(keras.callbacks.Callback):\n",
        "    def __init__(self, model, patience, stop_patience, threshold, factor, batches, epochs, ask_epoch):\n",
        "        super(MyCallback, self).__init__()\n",
        "        self.model = model\n",
        "        self.patience = patience # specifies how many epochs without improvement before learning rate is adjusted\n",
        "        self.stop_patience = stop_patience # specifies how many times to adjust lr without improvement to stop training\n",
        "        self.threshold = threshold # specifies training accuracy threshold when lr will be adjusted based on validation loss\n",
        "        self.factor = factor # factor by which to reduce the learning rate\n",
        "        self.batches = batches # number of training batch to run per epoch\n",
        "        self.epochs = epochs\n",
        "        self.ask_epoch = ask_epoch\n",
        "        self.ask_epoch_initial = ask_epoch # save this value to restore if restarting training\n",
        "\n",
        "        # callback variables\n",
        "        self.count = 0 # how many times lr has been reduced without improvement\n",
        "        self.stop_count = 0\n",
        "        self.best_epoch = 1   # epoch with the lowest loss\n",
        "        self.initial_lr = float(tf.keras.backend.get_value(model.optimizer.lr)) # get the initial learning rate and save it\n",
        "        self.highest_tracc = 0.0 # set highest training accuracy to 0 initially\n",
        "        self.lowest_vloss = np.inf # set lowest validation loss to infinity initially\n",
        "        self.best_weights = self.model.get_weights() # set best weights to model's initial weights\n",
        "        self.initial_weights = self.model.get_weights()   # save initial weights if they have to get restored\n",
        "\n",
        "    # Define a function that will run when train begins\n",
        "    def on_train_begin(self, logs= None):\n",
        "        msg = 'Do you want model asks you to halt the training [y/n] ?'\n",
        "        print(msg)\n",
        "        ans = input('')\n",
        "        if ans in ['Y', 'y']:\n",
        "            self.ask_permission = 1\n",
        "        elif ans in ['N', 'n']:\n",
        "            self.ask_permission = 0\n",
        "\n",
        "        msg = '{0:^8s}{1:^10s}{2:^9s}{3:^9s}{4:^9s}{5:^9s}{6:^9s}{7:^10s}{8:10s}{9:^8s}'.format('Epoch', 'T_Loss', 'Accuracy', 'V_loss', 'V_acc', 'LR', 'Next LR', 'Monitor','% Improv', 'Duration')\n",
        "        print(msg)\n",
        "        self.start_time = time.time()\n",
        "\n",
        "\n",
        "    def on_train_end(self, logs= None):\n",
        "        stop_time = time.time()\n",
        "        tr_duration = stop_time - self.start_time\n",
        "        hours = tr_duration // 3600\n",
        "        minutes = (tr_duration - (hours * 3600)) // 60\n",
        "        seconds = tr_duration - ((hours * 3600) + (minutes * 60))\n",
        "\n",
        "        msg = f'training elapsed time was {str(hours)} hours, {minutes:4.1f} minutes, {seconds:4.2f} seconds)'\n",
        "        print(msg)\n",
        "\n",
        "        # set the weights of the model to the best weights\n",
        "        self.model.set_weights(self.best_weights)\n",
        "\n",
        "\n",
        "    def on_train_batch_end(self, batch, logs= None):\n",
        "        # get batch accuracy and loss\n",
        "        acc = logs.get('accuracy') * 100\n",
        "        loss = logs.get('loss')\n",
        "\n",
        "        # prints over on the same line to show running batch count\n",
        "        msg = '{0:20s}processing batch {1:} of {2:5s}-   accuracy=  {3:5.3f}   -   loss: {4:8.5f}'.format(' ', str(batch), str(self.batches), acc, loss)\n",
        "        print(msg, '\\r', end= '')\n",
        "\n",
        "\n",
        "    def on_epoch_begin(self, epoch, logs= None):\n",
        "        self.ep_start = time.time()\n",
        "\n",
        "\n",
        "    # Define method runs on the end of each epoch\n",
        "    def on_epoch_end(self, epoch, logs= None):\n",
        "        ep_end = time.time()\n",
        "        duration = ep_end - self.ep_start\n",
        "\n",
        "        lr = float(tf.keras.backend.get_value(self.model.optimizer.lr)) # get the current learning rate\n",
        "        current_lr = lr\n",
        "        acc = logs.get('accuracy')  # get training accuracy\n",
        "        v_acc = logs.get('val_accuracy')  # get validation accuracy\n",
        "        loss = logs.get('loss')  # get training loss for this epoch\n",
        "        v_loss = logs.get('val_loss')  # get the validation loss for this epoch\n",
        "\n",
        "        if acc < self.threshold: # if training accuracy is below threshold adjust lr based on training accuracy\n",
        "            monitor = 'accuracy'\n",
        "            if epoch == 0:\n",
        "                pimprov = 0.0\n",
        "            else:\n",
        "                pimprov = (acc - self.highest_tracc ) * 100 / self.highest_tracc # define improvement of model progres\n",
        "\n",
        "            if acc > self.highest_tracc: # training accuracy improved in the epoch\n",
        "                self.highest_tracc = acc # set new highest training accuracy\n",
        "                self.best_weights = self.model.get_weights() # training accuracy improved so save the weights\n",
        "                self.count = 0 # set count to 0 since training accuracy improved\n",
        "                self.stop_count = 0 # set stop counter to 0\n",
        "                if v_loss < self.lowest_vloss:\n",
        "                    self.lowest_vloss = v_loss\n",
        "                self.best_epoch = epoch + 1  # set the value of best epoch for this epoch\n",
        "\n",
        "            else:\n",
        "                # training accuracy did not improve check if this has happened for patience number of epochs\n",
        "                # if so adjust learning rate\n",
        "                if self.count >= self.patience - 1: # lr should be adjusted\n",
        "                    lr = lr * self.factor # adjust the learning by factor\n",
        "                    tf.keras.backend.set_value(self.model.optimizer.lr, lr) # set the learning rate in the optimizer\n",
        "                    self.count = 0 # reset the count to 0\n",
        "                    self.stop_count = self.stop_count + 1 # count the number of consecutive lr adjustments\n",
        "                    self.count = 0 # reset counter\n",
        "                    if v_loss < self.lowest_vloss:\n",
        "                        self.lowest_vloss = v_loss\n",
        "                else:\n",
        "                    self.count = self.count + 1 # increment patience counter\n",
        "\n",
        "        else: # training accuracy is above threshold so adjust learning rate based on validation loss\n",
        "            monitor = 'val_loss'\n",
        "            if epoch == 0:\n",
        "                pimprov = 0.0\n",
        "\n",
        "            else:\n",
        "                pimprov = (self.lowest_vloss - v_loss ) * 100 / self.lowest_vloss\n",
        "\n",
        "            if v_loss < self.lowest_vloss: # check if the validation loss improved\n",
        "                self.lowest_vloss = v_loss # replace lowest validation loss with new validation loss\n",
        "                self.best_weights = self.model.get_weights() # validation loss improved so save the weights\n",
        "                self.count = 0 # reset count since validation loss improved\n",
        "                self.stop_count = 0\n",
        "                self.best_epoch = epoch + 1 # set the value of the best epoch to this epoch\n",
        "\n",
        "            else: # validation loss did not improve\n",
        "                if self.count >= self.patience - 1: # need to adjust lr\n",
        "                    lr = lr * self.factor # adjust the learning rate\n",
        "                    self.stop_count = self.stop_count + 1 # increment stop counter because lr was adjusted\n",
        "                    self.count = 0 # reset counter\n",
        "                    tf.keras.backend.set_value(self.model.optimizer.lr, lr) # set the learning rate in the optimizer\n",
        "\n",
        "                else:\n",
        "                    self.count = self.count + 1 # increment the patience counter\n",
        "\n",
        "                if acc > self.highest_tracc:\n",
        "                    self.highest_tracc = acc\n",
        "\n",
        "        msg = f'{str(epoch + 1):^3s}/{str(self.epochs):4s} {loss:^9.3f}{acc * 100:^9.3f}{v_loss:^9.5f}{v_acc * 100:^9.3f}{current_lr:^9.5f}{lr:^9.5f}{monitor:^11s}{pimprov:^10.2f}{duration:^8.2f}'\n",
        "        print(msg)\n",
        "\n",
        "        if self.stop_count > self.stop_patience - 1: # check if learning rate has been adjusted stop_count times with no improvement\n",
        "            msg = f' training has been halted at epoch {epoch + 1} after {self.stop_patience} adjustments of learning rate with no improvement'\n",
        "            print(msg)\n",
        "            self.model.stop_training = True # stop training\n",
        "\n",
        "        else:\n",
        "            if self.ask_epoch != None and self.ask_permission != 0:\n",
        "                if epoch + 1 >= self.ask_epoch:\n",
        "                    msg = 'enter H to halt training or an integer for number of epochs to run then ask again'\n",
        "                    print(msg)\n",
        "\n",
        "                    ans = input('')\n",
        "                    if ans == 'H' or ans == 'h':\n",
        "                        msg = f'training has been halted at epoch {epoch + 1} due to user input'\n",
        "                        print(msg)\n",
        "                        self.model.stop_training = True # stop training\n",
        "\n",
        "                    else:\n",
        "                        try:\n",
        "                            ans = int(ans)\n",
        "                            self.ask_epoch += ans\n",
        "                            msg = f' training will continue until epoch {str(self.ask_epoch)}'\n",
        "                            print(msg)\n",
        "                            msg = '{0:^8s}{1:^10s}{2:^9s}{3:^9s}{4:^9s}{5:^9s}{6:^9s}{7:^10s}{8:10s}{9:^8s}'.format('Epoch', 'Loss', 'Accuracy', 'V_loss', 'V_acc', 'LR', 'Next LR', 'Monitor', '% Improv', 'Duration')\n",
        "                            print(msg)\n",
        "\n",
        "                        except Exception:\n",
        "                            print('Invalid')"
      ],
      "metadata": {
        "id": "Mu6dSerF2S0H"
      },
      "execution_count": 21,
      "outputs": []
    },
    {
      "cell_type": "code",
      "execution_count": 14,
      "metadata": {
        "id": "JRPSYnBjnWs5"
      },
      "outputs": [],
      "source": [
        "def AlexNet(img_shape):\n",
        "    \n",
        "    img_size = (224, 224)\n",
        "    channels = 3\n",
        "    img_shape = (img_size[0], img_size[1], channels)\n",
        "\n",
        "    X_input = Input(img_shape)\n",
        "    \n",
        "    X = Conv2D(96,(11,11),strides = 4,name=\"conv0\")(X_input)\n",
        "    X = BatchNormalization(axis = 3 , name = \"bn0\")(X)\n",
        "    X = Activation('relu')(X)\n",
        "    \n",
        "    X = MaxPooling2D((3,3),strides = 2,name = 'max0')(X)\n",
        "    \n",
        "    X = Conv2D(256,(5,5),padding = 'same' , name = 'conv1')(X)\n",
        "    X = BatchNormalization(axis = 3 ,name='bn1')(X)\n",
        "    X = Activation('relu')(X)\n",
        "    \n",
        "    X = MaxPooling2D((3,3),strides = 2,name = 'max1')(X)\n",
        "    \n",
        "    X = Conv2D(384, (3,3) , padding = 'same' , name='conv2')(X)\n",
        "    X = BatchNormalization(axis = 3, name = 'bn2')(X)\n",
        "    X = Activation('relu')(X)\n",
        "    \n",
        "    X = Conv2D(384, (3,3) , padding = 'same' , name='conv3')(X)\n",
        "    X = BatchNormalization(axis = 3, name = 'bn3')(X)\n",
        "    X = Activation('relu')(X)\n",
        "    \n",
        "    X = Conv2D(256, (3,3) , padding = 'same' , name='conv4')(X)\n",
        "    X = BatchNormalization(axis = 3, name = 'bn4')(X)\n",
        "    X = Activation('relu')(X)\n",
        "    \n",
        "    X = MaxPooling2D((3,3),strides = 2,name = 'max2')(X)\n",
        "    \n",
        "    X = Flatten()(X)\n",
        "    \n",
        "    X = Dense(4096, activation = 'relu', name = \"fc0\")(X)\n",
        "    \n",
        "    X = Dense(4096, activation = 'relu', name = 'fc1')(X) \n",
        "    \n",
        "    X = Dense(5,activation='softmax',name = 'fc2')(X)\n",
        "    \n",
        "    model = Model(inputs = X_input, outputs = X, name='AlexNet')\n",
        "    \n",
        "    return model"
      ]
    },
    {
      "cell_type": "code",
      "source": [
        "def Alexnet():\n",
        "    \n",
        "    model = Sequential()\n",
        "    inputShape = (224, 224, 3)\n",
        "    chanDim = -1\n",
        "    if K.image_data_format() == \"channels_first\":\n",
        "        inputShape = (224,224,3)\n",
        "        chanDim = 1\n",
        "\n",
        "## Layer 1\n",
        "    model.add(Conv2D(96, strides = (4, 4), kernel_size = (11, 11), activation = \"relu\", \n",
        "                    kernel_initializer = \"he_uniform\", padding = \"valid\", input_shape = (224, 224, 3)))\n",
        "    model.add(MaxPooling2D(pool_size = (3, 3), strides = (2, 2)))\n",
        "    model.add(BatchNormalization())\n",
        "\n",
        "## Layer 2\n",
        "    model.add(Conv2D(256, padding = \"same\", kernel_size = (5, 5), activation = \"relu\", \n",
        "                    kernel_initializer = \"he_uniform\"))\n",
        "    model.add(MaxPooling2D(pool_size = (3, 3), strides = (2, 2)))\n",
        "    model.add(BatchNormalization())\n",
        "\n",
        "## Layer 3\n",
        "    model.add(Conv2D(384, kernel_size = (3, 3), activation = \"relu\", kernel_initializer = \"he_uniform\", \n",
        "                    padding = \"same\"))\n",
        "    model.add(BatchNormalization())\n",
        "\n",
        "## Layer 5 \n",
        "    model.add(Conv2D(384, kernel_size = (3, 3), activation = \"relu\", kernel_initializer = \"he_uniform\", \n",
        "                    padding = \"same\"))\n",
        "    model.add(BatchNormalization())\n",
        "\n",
        "## Layer 6 \n",
        "    model.add(Conv2D(256, kernel_size = (3, 3), activation = \"relu\", kernel_initializer = \"he_uniform\", \n",
        "                    padding = \"same\"))\n",
        "    model.add(MaxPooling2D(pool_size = (2, 2), strides = (3, 3)))\n",
        "\n",
        "\n",
        "## Flatten the Model and Connect it \n",
        "# To Connected Layer \n",
        "    model.add(Flatten())\n",
        "    model.add(Dense(4096, activation = \"relu\", kernel_initializer = \"he_uniform\"))\n",
        "    model.add(Dropout(0.3))\n",
        "\n",
        "## Dense 2 \n",
        "    model.add(Dense(1500, kernel_initializer = \"he_uniform\", activation = \"relu\"))\n",
        "    model.add(Dropout(0.3))\n",
        "    model.add(BatchNormalization())\n",
        "\n",
        "## Dense 3 \n",
        "    model.add(Dense(1000, kernel_initializer = \"he_uniform\", activation = \"relu\"))\n",
        "    model.add(Dropout(0.3))\n",
        "    model.add(BatchNormalization())\n",
        "\n",
        "## Output Layer\n",
        "    model.add(Dense(4, activation = \"softmax\", kernel_initializer = \"glorot_uniform\"))\n",
        "\n",
        "    return model"
      ],
      "metadata": {
        "id": "rABmLvE2KjN6"
      },
      "execution_count": 15,
      "outputs": []
    },
    {
      "cell_type": "code",
      "execution_count": 16,
      "metadata": {
        "id": "VSkRUelzor9B"
      },
      "outputs": [],
      "source": [
        "img_size = (224, 224)\n",
        "channels = 3\n",
        "img_shape = (img_size[0], img_size[1], channels)"
      ]
    },
    {
      "cell_type": "code",
      "execution_count": 17,
      "metadata": {
        "id": "x4kwmyqxnfB2"
      },
      "outputs": [],
      "source": [
        "base_model = Alexnet()"
      ]
    },
    {
      "cell_type": "code",
      "execution_count": 18,
      "metadata": {
        "id": "4FIaL6CcoCJG"
      },
      "outputs": [],
      "source": [
        "# img_size = (227, 227)\n",
        "# channels = 3\n",
        "# img_shape = (img_size[0], img_size[1], channels)"
      ]
    },
    {
      "cell_type": "code",
      "execution_count": 19,
      "metadata": {
        "id": "r6SfnJkJJMkZ",
        "colab": {
          "base_uri": "https://localhost:8080/"
        },
        "outputId": "a5bddbc3-747f-4ba9-9aaa-ddc9ffcd4f8e"
      },
      "outputs": [
        {
          "output_type": "stream",
          "name": "stdout",
          "text": [
            "Model: \"sequential_1\"\n",
            "_________________________________________________________________\n",
            " Layer (type)                Output Shape              Param #   \n",
            "=================================================================\n",
            " sequential (Sequential)     (None, 4)                 28193496  \n",
            "                                                                 \n",
            " batch_normalization_6 (Batc  (None, 4)                16        \n",
            " hNormalization)                                                 \n",
            "                                                                 \n",
            " dense_4 (Dense)             (None, 1024)              5120      \n",
            "                                                                 \n",
            " dropout_3 (Dropout)         (None, 1024)              0         \n",
            "                                                                 \n",
            " dense_5 (Dense)             (None, 4)                 4100      \n",
            "                                                                 \n",
            "=================================================================\n",
            "Total params: 28,202,732\n",
            "Trainable params: 28,195,484\n",
            "Non-trainable params: 7,248\n",
            "_________________________________________________________________\n"
          ]
        }
      ],
      "source": [
        "# Create Model Structure\n",
        "img_size = (224, 224)\n",
        "channels = 3\n",
        "img_shape = (img_size[0], img_size[1], channels)\n",
        "class_count = len(list(train_gen.class_indices.keys())) # to define number of classes in dense layer\n",
        "\n",
        "\n",
        "# base_model=tf.keras.applications.inception_v3.InceptionV3(include_top=False,\n",
        "#                                                            weights=\"imagenet\",\n",
        "#                                                            input_shape=img_shape,\n",
        "#                                                            pooling='max') \n",
        "\n",
        "model = Sequential([ base_model,\n",
        "                     BatchNormalization(axis= -1, momentum= 0.99, epsilon= 0.001),\n",
        "                     Dense(1024, kernel_regularizer= regularizers.l2(l= 0.016), activity_regularizer= regularizers.l1(0.006),\n",
        "                     bias_regularizer= regularizers.l1(0.006), activation= 'relu'),\n",
        "                     Dropout(rate= 0.4, seed= 123),\n",
        "                     Dense(4, activation= 'softmax')\n",
        "])\n",
        "\n",
        "model.compile(Adam(learning_rate= 0.001), loss= 'categorical_crossentropy', metrics= ['accuracy'])\n",
        "\n",
        "model.summary()"
      ]
    },
    {
      "cell_type": "code",
      "execution_count": 22,
      "metadata": {
        "id": "dKfR30y4JPg9"
      },
      "outputs": [],
      "source": [
        "batch_size = 32           # set batch size for training\n",
        "epochs = 40               # number of all epochs in training\n",
        "patience = 2              #number of epochs to wait to adjust lr if monitored value does not improve\n",
        "stop_patience = 4         # number of epochs to wait before stopping training if monitored value does not improve\n",
        "threshold = 0.9           # if train accuracy is < threshold adjust monitor accuracy, else monitor validation loss\n",
        "factor = 0.5            # factor to reduce lr by\n",
        "ask_epoch = 5             # number of epochs to run before asking if you want to halt training\n",
        "batches = int(np.ceil(len(train_gen.labels) / batch_size))    # number of training batch to run per epoch\n",
        "\n",
        "callbacks = [MyCallback(model= model, patience= patience, stop_patience= stop_patience, threshold= threshold,\n",
        "            factor= factor, batches= batches, epochs= epochs, ask_epoch= ask_epoch )]"
      ]
    },
    {
      "cell_type": "code",
      "execution_count": 23,
      "metadata": {
        "colab": {
          "base_uri": "https://localhost:8080/"
        },
        "id": "CvGu6X5OK-qH",
        "outputId": "f4801076-6144-42ae-e80f-39e38b83eec6"
      },
      "outputs": [
        {
          "output_type": "stream",
          "name": "stdout",
          "text": [
            "Do you want model asks you to halt the training [y/n] ?\n",
            "n\n",
            " Epoch    T_Loss  Accuracy  V_loss    V_acc     LR     Next LR  Monitor  % Improv  Duration\n",
            "Epoch 1/40\n",
            "79/79 [==============================] - ETA: 0s - loss: 1.0625 - accuracy: 0.7320 1 /40     1.062   73.198   1.88847  27.751   0.00100  0.00100  accuracy     0.00    67.92  \n",
            "79/79 [==============================] - 68s 638ms/step - loss: 1.0625 - accuracy: 0.7320 - val_loss: 1.8885 - val_accuracy: 0.2775\n",
            "Epoch 2/40\n",
            "79/79 [==============================] - ETA: 0s - loss: 0.7670 - accuracy: 0.7861 2 /40     0.767   78.614   2.10294  29.426   0.00100  0.00100  accuracy     7.40    46.48  \n",
            "79/79 [==============================] - 47s 591ms/step - loss: 0.7670 - accuracy: 0.7861 - val_loss: 2.1029 - val_accuracy: 0.2943\n",
            "Epoch 3/40\n",
            "79/79 [==============================] - ETA: 0s - loss: 0.7463 - accuracy: 0.7758 3 /40     0.746   77.579   2.20489  28.230   0.00100  0.00100  accuracy    -1.32    52.77  \n",
            "79/79 [==============================] - 53s 662ms/step - loss: 0.7463 - accuracy: 0.7758 - val_loss: 2.2049 - val_accuracy: 0.2823\n",
            "Epoch 4/40\n",
            "79/79 [==============================] - ETA: 0s - loss: 0.6688 - accuracy: 0.8005 4 /40     0.669   80.048   2.06221  38.995   0.00100  0.00100  accuracy     1.82    46.00  \n",
            "79/79 [==============================] - 46s 585ms/step - loss: 0.6688 - accuracy: 0.8005 - val_loss: 2.0622 - val_accuracy: 0.3900\n",
            "Epoch 5/40\n",
            "79/79 [==============================] - ETA: 0s - loss: 0.6237 - accuracy: 0.8076 5 /40     0.624   80.765   1.32525  63.517   0.00100  0.00100  accuracy     0.90    47.47  \n",
            "79/79 [==============================] - 48s 604ms/step - loss: 0.6237 - accuracy: 0.8076 - val_loss: 1.3253 - val_accuracy: 0.6352\n",
            "Epoch 6/40\n",
            "79/79 [==============================] - ETA: 0s - loss: 0.5801 - accuracy: 0.8124 6 /40     0.580   81.243   2.23296  43.421   0.00100  0.00100  accuracy     0.59    46.44  \n",
            "79/79 [==============================] - 47s 591ms/step - loss: 0.5801 - accuracy: 0.8124 - val_loss: 2.2330 - val_accuracy: 0.4342\n",
            "Epoch 7/40\n",
            "79/79 [==============================] - ETA: 0s - loss: 0.6257 - accuracy: 0.8057 7 /40     0.626   80.566   2.96380  31.340   0.00100  0.00100  accuracy    -0.83    44.96  \n",
            "79/79 [==============================] - 45s 570ms/step - loss: 0.6257 - accuracy: 0.8057 - val_loss: 2.9638 - val_accuracy: 0.3134\n",
            "Epoch 8/40\n",
            "79/79 [==============================] - ETA: 0s - loss: 0.5520 - accuracy: 0.8232 8 /40     0.552   82.318   1.17565  65.789   0.00100  0.00100  accuracy     1.32    44.73  \n",
            "79/79 [==============================] - 45s 568ms/step - loss: 0.5520 - accuracy: 0.8232 - val_loss: 1.1757 - val_accuracy: 0.6579\n",
            "Epoch 9/40\n",
            "79/79 [==============================] - ETA: 0s - loss: 0.5887 - accuracy: 0.8041 9 /40     0.589   80.406   1.99119  53.349   0.00100  0.00100  accuracy    -2.32    43.96  \n",
            "79/79 [==============================] - 44s 558ms/step - loss: 0.5887 - accuracy: 0.8041 - val_loss: 1.9912 - val_accuracy: 0.5335\n",
            "Epoch 10/40\n",
            "79/79 [==============================] - ETA: 0s - loss: 0.5611 - accuracy: 0.813610 /40     0.561   81.362   0.83473  72.249   0.00100  0.00050  accuracy    -1.16    45.49  \n",
            "79/79 [==============================] - 45s 577ms/step - loss: 0.5611 - accuracy: 0.8136 - val_loss: 0.8347 - val_accuracy: 0.7225\n",
            "Epoch 11/40\n",
            "79/79 [==============================] - ETA: 0s - loss: 0.5362 - accuracy: 0.818411 /40     0.536   81.840   1.42013  64.474   0.00050  0.00050  accuracy    -0.58    44.28  \n",
            "79/79 [==============================] - 44s 559ms/step - loss: 0.5362 - accuracy: 0.8184 - val_loss: 1.4201 - val_accuracy: 0.6447\n",
            "Epoch 12/40\n",
            "79/79 [==============================] - ETA: 0s - loss: 0.5146 - accuracy: 0.824812 /40     0.515   82.477   1.24827  66.268   0.00050  0.00050  accuracy     0.19    45.79  \n",
            "79/79 [==============================] - 46s 581ms/step - loss: 0.5146 - accuracy: 0.8248 - val_loss: 1.2483 - val_accuracy: 0.6627\n",
            "Epoch 13/40\n",
            "79/79 [==============================] - ETA: 0s - loss: 0.5291 - accuracy: 0.820013 /40     0.529   81.999   0.49405  82.416   0.00050  0.00050  accuracy    -0.58    44.37  \n",
            "79/79 [==============================] - 44s 563ms/step - loss: 0.5291 - accuracy: 0.8200 - val_loss: 0.4941 - val_accuracy: 0.8242\n",
            "Epoch 14/40\n",
            "79/79 [==============================] - ETA: 0s - loss: 0.4987 - accuracy: 0.829914 /40     0.499   82.995   0.66593  76.555   0.00050  0.00050  accuracy     0.63    45.88  \n",
            "79/79 [==============================] - 46s 583ms/step - loss: 0.4987 - accuracy: 0.8299 - val_loss: 0.6659 - val_accuracy: 0.7656\n",
            "Epoch 15/40\n",
            "79/79 [==============================] - ETA: 0s - loss: 0.5166 - accuracy: 0.825615 /40     0.517   82.557   0.52214  82.057   0.00050  0.00050  accuracy    -0.53    44.14  \n",
            "79/79 [==============================] - 44s 557ms/step - loss: 0.5166 - accuracy: 0.8256 - val_loss: 0.5221 - val_accuracy: 0.8206\n",
            "Epoch 16/40\n",
            "79/79 [==============================] - ETA: 0s - loss: 0.5035 - accuracy: 0.826816 /40     0.503   82.676   1.06021  71.770   0.00050  0.00025  accuracy    -0.38    43.39  \n",
            "79/79 [==============================] - 43s 550ms/step - loss: 0.5035 - accuracy: 0.8268 - val_loss: 1.0602 - val_accuracy: 0.7177\n",
            "Epoch 17/40\n",
            "79/79 [==============================] - ETA: 0s - loss: 0.4875 - accuracy: 0.828417 /40     0.487   82.836   0.52297  82.416   0.00025  0.00025  accuracy    -0.19    44.40  \n",
            "79/79 [==============================] - 44s 563ms/step - loss: 0.4875 - accuracy: 0.8284 - val_loss: 0.5230 - val_accuracy: 0.8242\n",
            "Epoch 18/40\n",
            "77/79 [============================>.] - ETA: 1s - loss: 0.4720 - accuracy: 0.832418 /40     0.473   83.313   0.47308  83.014   0.00025  0.00025  accuracy     0.38    44.96  \n",
            "79/79 [==============================] - 45s 573ms/step - loss: 0.4730 - accuracy: 0.8331 - val_loss: 0.4731 - val_accuracy: 0.8301\n",
            "Epoch 19/40\n",
            "79/79 [==============================] - ETA: 0s - loss: 0.4778 - accuracy: 0.831519 /40     0.478   83.154   0.55509  81.699   0.00025  0.00025  accuracy    -0.19    44.36  \n",
            "79/79 [==============================] - 44s 560ms/step - loss: 0.4778 - accuracy: 0.8315 - val_loss: 0.5551 - val_accuracy: 0.8170\n",
            "Epoch 20/40\n",
            "79/79 [==============================] - ETA: 0s - loss: 0.4833 - accuracy: 0.831920 /40     0.483   83.194   0.52223  82.177   0.00025  0.00013  accuracy    -0.14    44.41  \n",
            "79/79 [==============================] - 44s 563ms/step - loss: 0.4833 - accuracy: 0.8319 - val_loss: 0.5222 - val_accuracy: 0.8218\n",
            "Epoch 21/40\n",
            "79/79 [==============================] - ETA: 0s - loss: 0.4715 - accuracy: 0.832321 /40     0.472   83.234   0.66680  79.904   0.00013  0.00013  accuracy    -0.10    43.70  \n",
            "79/79 [==============================] - 44s 555ms/step - loss: 0.4715 - accuracy: 0.8323 - val_loss: 0.6668 - val_accuracy: 0.7990\n",
            "Epoch 22/40\n",
            "79/79 [==============================] - ETA: 0s - loss: 0.4745 - accuracy: 0.831922 /40     0.475   83.194   0.50094  82.775   0.00013  0.00006  accuracy    -0.14    43.23  \n",
            "79/79 [==============================] - 43s 549ms/step - loss: 0.4745 - accuracy: 0.8319 - val_loss: 0.5009 - val_accuracy: 0.8278\n",
            "Epoch 23/40\n",
            "79/79 [==============================] - ETA: 0s - loss: 0.4771 - accuracy: 0.830723 /40     0.477   83.074   0.45790  83.134   0.00006  0.00006  accuracy    -0.29    44.70  \n",
            "79/79 [==============================] - 45s 564ms/step - loss: 0.4771 - accuracy: 0.8307 - val_loss: 0.4579 - val_accuracy: 0.8313\n",
            "Epoch 24/40\n",
            "79/79 [==============================] - ETA: 0s - loss: 0.4676 - accuracy: 0.831524 /40     0.468   83.154   0.46451  83.014   0.00006  0.00003  accuracy    -0.19    45.35  \n",
            "79/79 [==============================] - 45s 576ms/step - loss: 0.4676 - accuracy: 0.8315 - val_loss: 0.4645 - val_accuracy: 0.8301\n",
            "Epoch 25/40\n",
            "79/79 [==============================] - ETA: 0s - loss: 0.4655 - accuracy: 0.831925 /40     0.466   83.194   0.45607  83.134   0.00003  0.00003  accuracy    -0.14    44.61  \n",
            "79/79 [==============================] - 45s 566ms/step - loss: 0.4655 - accuracy: 0.8319 - val_loss: 0.4561 - val_accuracy: 0.8313\n",
            "Epoch 26/40\n",
            "79/79 [==============================] - ETA: 0s - loss: 0.4712 - accuracy: 0.832326 /40     0.471   83.234   0.45837  83.134   0.00003  0.00002  accuracy    -0.10    43.93  \n",
            " training has been halted at epoch 26 after 4 adjustments of learning rate with no improvement\n",
            "79/79 [==============================] - 44s 557ms/step - loss: 0.4712 - accuracy: 0.8323 - val_loss: 0.4584 - val_accuracy: 0.8313\n",
            "training elapsed time was 0.0 hours, 24.0 minutes, 33.05 seconds)\n"
          ]
        }
      ],
      "source": [
        "history = model.fit(x= train,\n",
        "                    epochs= epochs,\n",
        "                    verbose= 1,\n",
        "                    callbacks= callbacks,\n",
        "                    validation_data= validation,\n",
        "                    validation_steps= None,\n",
        "                    shuffle= True,\n",
        "                    )"
      ]
    },
    {
      "cell_type": "code",
      "source": [
        "his_data = pd.DataFrame(history.history)\n",
        "plt.figure(figsize=(20,5))\n",
        "\n",
        "plt.subplot(1,2,1)\n",
        "plt.plot(his_data.loss, label=\"Training loss\")\n",
        "plt.plot(his_data.val_loss, label=\"Validation loss\")\n",
        "plt.xlabel(\"Epochs\")\n",
        "plt.ylabel(\"loss\")\n",
        "plt.title(\"Losses\")\n",
        "plt.grid()\n",
        "plt.legend()\n",
        "\n",
        "plt.subplot(1,2,2)\n",
        "plt.plot(his_data.accuracy, label=\"Training accuracy\")\n",
        "plt.plot(his_data.val_accuracy, label=\"Validation accuracy\")\n",
        "plt.xlabel(\"Epochs\")\n",
        "plt.ylabel(\"Accuracy\")\n",
        "plt.title(\"Accuracy\")\n",
        "plt.grid()\n",
        "plt.legend()"
      ],
      "metadata": {
        "id": "OXR3A3F18XPK",
        "outputId": "7c8182fd-5d3b-4232-ae78-711f12351228",
        "colab": {
          "base_uri": "https://localhost:8080/",
          "height": 440
        }
      },
      "execution_count": 25,
      "outputs": [
        {
          "output_type": "execute_result",
          "data": {
            "text/plain": [
              "<matplotlib.legend.Legend at 0x7f85f036ffd0>"
            ]
          },
          "metadata": {},
          "execution_count": 25
        },
        {
          "output_type": "display_data",
          "data": {
            "text/plain": [
              "<Figure size 2000x500 with 2 Axes>"
            ],
            "image/png": "[encoded data removed]"
          },
          "metadata": {}
        }
      ]
    }
  ],
  "metadata": {
    "accelerator": "GPU",
    "colab": {
      "provenance": []
    },
    "gpuClass": "standard",
    "kernelspec": {
      "display_name": "Python 3",
      "name": "python3"
    },
    "language_info": {
      "name": "python"
    }
  },
  "nbformat": 4,
  "nbformat_minor": 0
}